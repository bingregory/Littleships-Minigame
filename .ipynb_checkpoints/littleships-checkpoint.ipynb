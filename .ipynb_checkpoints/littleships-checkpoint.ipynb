{
 "cells": [
  {
   "cell_type": "markdown",
   "metadata": {},
   "source": [
    "# Welcome to Littleships: the modest little naval warfare game"
   ]
  },
  {
   "cell_type": "markdown",
   "metadata": {},
   "source": [
    "### to do: \n",
    "1. Function Location_of_ship - coordinates of each ship for player\n",
    "2. Function Shot_tracker - checks if shot is valid, if shot has been fired before, and if it is a hit or not\n",
    "3. Function Hit_tracker - records hits and checks if a ship has been sunk\n",
    "\n",
    "4. Lists - Ship_location\n",
    "5. lists - Record_of_shots\n",
    "6. "
   ]
  },
  {
   "cell_type": "code",
   "execution_count": null,
   "metadata": {},
   "outputs": [
    {
     "name": "stdout",
     "output_type": "stream",
     "text": [
      "['a2', 'b2', 'b3', 'e5', 'c5']\n",
      "What is your name?\n",
      "zayn\n",
      "Welcome to the pond, zayn!. Are you ready to hunt littleships?\n",
      "yes\n",
      "Take your shot!  Make sure it is a letter within a and e, and a number between 1 and 5.\n"
     ]
    }
   ],
   "source": [
    "#Overview:  a single-player game similar to battleships where the player has 15 shots to sink the littleships.\n",
    "# the program will randomly generate the coordinates for 5 littleships\n",
    "# the player will then shoot one shot at a time until the boats are sunk - a win - or he runs out of shots - a loss.\n",
    "\n",
    "#global values and variables\n",
    "from xml.etree.ElementTree import C14NWriterTarget\n",
    "import random\n",
    "\n",
    "gridlimit_alphabet = \"abcde\" #x-bounds of the pond\n",
    "gridlimit_int = str(range(1, len(gridlimit_alphabet)+1, 1)) #y-bounds of the pond\n",
    "max_shots = 5\n",
    "number_of_littleships = 5\n",
    "player_1 = \"\" #username\n",
    "# player_1_bigship = [] #coordinates of the bigship\n",
    "player_1_littleship = [] #coordinates of the littleship\n",
    "shots_fired = [] #all shots fired by player_1\n",
    "\n",
    "\n",
    "# for i in range(len(gridlimit_alphabet)):\n",
    "#     player_1_bigship.append((gridlimit_alphabet[random.randint(0, len(gridlimit_alphabet)-1)]) + str(random.randint(1, len(gridlimit_alphabet))))\n",
    "\n",
    "while len(player_1_littleship) < number_of_littleships:\n",
    "    ship = (gridlimit_alphabet[random.randint(0, len(gridlimit_alphabet)-1)]) + str(random.randint(1, len(gridlimit_alphabet)))\n",
    "    if ship not in player_1_littleship:\n",
    "        player_1_littleship.append(ship)\n",
    "\n",
    "#turn sequence\n",
    "counter = 0\n",
    "def shot_tracker(shot):\n",
    "    global counter\n",
    "    if shot[0] in gridlimit_alphabet and int(shot[-1]) <= (len(gridlimit_alphabet)) : #checks that the shot is valid\n",
    "        if shot in shots_fired: #checks that the shot is unique\n",
    "            print(\"You already shot there. Try again.\")\n",
    "            print(\"Take another shot\")\n",
    "            shot = input()\n",
    "            return shot_tracker(shot)\n",
    "        else: #valid, unique shots get added to the record of shots fired\n",
    "            shots_fired.append(shot) \n",
    "            counter += 1\n",
    "#                 if shot in player_1_bigship:\n",
    "#                     player_1_bigship.remove(shot)\n",
    "#                     if len(player_1_bigship) == 0 :\n",
    "#                         print(\"You sank his bigship!\")\n",
    "#                     else:\n",
    "#                         print(\"Ohhh you hit something out there!\")\n",
    "\n",
    "            if shot in player_1_littleship:\n",
    "\n",
    "                player_1_littleship.remove(shot)\n",
    "                print(\"Ohhh you hit something out there!\")\n",
    "\n",
    "                if len(player_1_littleship) != 0: #if the opponent stills has ships left\n",
    "                    if counter < max_shots: # shoot again if you have shots left\n",
    "                        print(\"Take another shot! You have \" + str(max_shots - counter) + \" shots remaining.\")\n",
    "                        print(counter)\n",
    "                        shot = input()\n",
    "                        return shot_tracker(shot)\n",
    "                    else: #no shots left - loss\n",
    "                        print(\"You're clean out of shots!  You lose.\")\n",
    "                else: #no ships left - victory\n",
    "                    print(\"The enemy is clean out of littleships. You win!\")\n",
    "            else: #shot missed\n",
    "                print(\"Plop! You missed the littleships!\")\n",
    "                if counter < max_shots: # shoot again if you have shots left\n",
    "                    print(\"Take another shot. You have \" + str(max_shots - counter) + \" shots remaining.\")\n",
    "                    print(counter)\n",
    "                    shot = input()\n",
    "                    return shot_tracker(shot)\n",
    "                else: #no shots left - loss\n",
    "                    print(\"You're clean out of shots!  You lose.\")\n",
    "    else: #invalid shot\n",
    "        print(\"That shot went wide of the pond!  Make sure your first coordinate is within \" + gridlimit_alphabet[0] + \" and \" + str(gridlimit_alphabet[-1]) + \" and your second coordinate is between 1 and \" + str(len(gridlimit_alphabet)) + \".\")\n",
    "        print(\"Take another shot\")\n",
    "        shot = input()\n",
    "        return shot_tracker(shot)    \n",
    "        \n",
    "#         if len(player_1_bigship) == 0 and len(player_1_littleship) == 0:\n",
    "\n",
    "        \n",
    "#initializing\n",
    "print(player_1_littleship)\n",
    "print(\"What is your name?\")\n",
    "name = input()\n",
    "print(\"Welcome to the pond, \" + name + \"!. Are you ready to hunt littleships?\")\n",
    "ready = input()\n",
    "print(\"Take your shot!  Make sure it is a letter within \" + gridlimit_alphabet[0] + \" and \" + str(gridlimit_alphabet[-1]) + \", and a number between 1 and \" + str(len(gridlimit_alphabet)) + \".\")\n",
    "shot = input()\n",
    "\n",
    "first_shot = shot_tracker(shot)\n",
    "print(\"GG, \" + name +\"! TTFN!\")\n",
    "quit()\n"
   ]
  },
  {
   "cell_type": "markdown",
   "metadata": {},
   "source": []
  },
  {
   "cell_type": "code",
   "execution_count": null,
   "metadata": {},
   "outputs": [],
   "source": []
  }
 ],
 "metadata": {
  "kernelspec": {
   "display_name": "Python 3 (ipykernel)",
   "language": "python",
   "name": "python3"
  },
  "language_info": {
   "codemirror_mode": {
    "name": "ipython",
    "version": 3
   },
   "file_extension": ".py",
   "mimetype": "text/x-python",
   "name": "python",
   "nbconvert_exporter": "python",
   "pygments_lexer": "ipython3",
   "version": "3.9.12"
  },
  "vscode": {
   "interpreter": {
    "hash": "dd3bdb09194729bc86e724939d3e6a6784f2822f4c5b187e11332fa94dbbc92f"
   }
  }
 },
 "nbformat": 4,
 "nbformat_minor": 2
}
