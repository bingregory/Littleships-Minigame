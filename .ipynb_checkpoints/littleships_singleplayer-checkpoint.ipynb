{
 "cells": [
  {
   "cell_type": "markdown",
   "metadata": {},
   "source": [
    "# Welcome to Littleships: modest naval battles in diminuitive bodies of water"
   ]
  },
  {
   "cell_type": "markdown",
   "metadata": {},
   "source": [
    "Overview:  a single-player game written in python3. The player has 15 shots to sink 5 littleships in a 5x5 grid.\n",
    "The player shoots one shot at a time until the boats are sunk or he runs out of shots.\n",
    "\n",
    "Method: The game is scripted to be easily adjustable. Only three variables need to be set - pond size, number of shots allowed and number of littleships. Features include randomly generated littleships, a shot tracker to prevent duplicate shots, and a validator to ensure shots are within bounds.  \n",
    "\n",
    "Potential features to add:\n",
    "1. Larger littleships: this will require additional logic to ensure subsequent coordinates are (1) consecutive, (2) randomly horizontal or vertical, and (3) within bounds following the first random coordinate.\n",
    "2. 2-Player version: this will require (1) a second shot_tracker function that alternates with the first, and (2) a starting sequence for each player where they choose their ship locations. \n",
    "3. A visual display of shots fired: this will require generating an array with Xs and Os after each shot. "
   ]
  },
  {
   "cell_type": "code",
   "execution_count": 1,
   "metadata": {},
   "outputs": [
    {
     "name": "stdout",
     "output_type": "stream",
     "text": [
      "['c3', 'e5', 'a2', 'e2', 'd3']\n",
      "What is your name?\n",
      "zayn\n",
      "Welcome to the pond, zayn!. Are you ready to hunt littleships?\n",
      "yes\n",
      "Take your shot!  Make sure it is a letter within a and e, and a number between 1 and 5.\n",
      "c3\n",
      "Ohhh you hit something out there!\n",
      "Take another shot! You have 4 shots remaining.\n",
      "1\n",
      "e5\n",
      "Ohhh you hit something out there!\n",
      "Take another shot! You have 3 shots remaining.\n",
      "2\n",
      "a2\n",
      "Ohhh you hit something out there!\n",
      "Take another shot! You have 2 shots remaining.\n",
      "3\n",
      "e2\n",
      "Ohhh you hit something out there!\n",
      "Take another shot! You have 1 shots remaining.\n",
      "4\n",
      "d3\n",
      "Ohhh you hit something out there!\n",
      "The enemy is clean out of littleships. You win!\n",
      "GG, zayn! TTFN!\n"
     ]
    }
   ],
   "source": [
    "#Littleships: the game of modest naval battles in diminuitive bodies of water\n",
    "#global values and variables\n",
    "from xml.etree.ElementTree import C14NWriterTarget\n",
    "import random\n",
    "\n",
    "gridlimit_alphabet = \"abcde\" #x-bounds of the pond\n",
    "gridlimit_int = str(range(1, len(gridlimit_alphabet)+1, 1)) #y-bounds of the pond\n",
    "max_shots = 15 #number of shots allowed\n",
    "number_of_littleships = 5 #number of enemy littleships\n",
    "counter = 0 #number of shots used\n",
    "player_1 = \"\" #username\n",
    "player_1_littleship = [] #coordinates of the littleships\n",
    "shots_fired = [] #all shots fired by player_1\n",
    "\n",
    "#randomly generates coordinates for enemy littleships\n",
    "while len(player_1_littleship) < number_of_littleships:\n",
    "    ship = (gridlimit_alphabet[random.randint(0, len(gridlimit_alphabet)-1)]) + str(random.randint(1, len(gridlimit_alphabet)))\n",
    "    if ship not in player_1_littleship:\n",
    "        player_1_littleship.append(ship)\n",
    "\n",
    "#turn sequence\n",
    "\n",
    "def shot_tracker(shot):\n",
    "    global counter\n",
    "    if shot[0] in gridlimit_alphabet and int(shot[-1]) <= (len(gridlimit_alphabet)) : #checks that the shot is in bounds\n",
    "        if shot in shots_fired: #checks that the shot is unique\n",
    "            print(\"You already shot there. Try again.\")\n",
    "            print(\"Take another shot\")\n",
    "            shot = input()\n",
    "            return shot_tracker(shot)\n",
    "        else: #valid, unique shots get added to the record of shots fired\n",
    "            shots_fired.append(shot) \n",
    "            counter += 1\n",
    "            \n",
    "            if shot in player_1_littleship: #if the shot hit, removes the dead littleship\n",
    "                player_1_littleship.remove(shot)\n",
    "                print(\"Ohhh that's a hit! One littleship sunk!\")\n",
    "\n",
    "                if len(player_1_littleship) != 0: #if the opponent stills has ships left\n",
    "                    \n",
    "                    if counter < max_shots: # shoot again if you have shots left\n",
    "                        print(\"Take another shot! You have \" + str(max_shots - counter) + \" shot(s) remaining.\")\n",
    "                        print(counter)\n",
    "                        shot = input()\n",
    "                        return shot_tracker(shot)\n",
    "                    else: #no shots left - loss\n",
    "                        print(\"You're clean out of shots!  You lose.\")\n",
    "                \n",
    "                else: #no ships left - victory\n",
    "                    print(\"The enemy is clean out of littleships. You win!\")\n",
    "            \n",
    "            else: #shot missed\n",
    "                print(\"Splash! You missed the littleships!\")\n",
    "                if counter < max_shots: # shoot again if you have shots left\n",
    "                    print(\"Take another shot. You have \" + str(max_shots - counter) + \" shot(s) remaining.\")\n",
    "                    print(counter)\n",
    "                    shot = input()\n",
    "                    return shot_tracker(shot)\n",
    "                else: #no shots left - loss\n",
    "                    print(\"You're clean out of shots!  You lose.\")\n",
    "                    \n",
    "    else: #invalid shot\n",
    "        print(\"That shot went wide of the pond!  Make sure your first coordinate is within \" + gridlimit_alphabet[0] + \" and \" + str(gridlimit_alphabet[-1]) + \" and your second coordinate is between 1 and \" + str(len(gridlimit_alphabet)) + \".\")\n",
    "        print(\"Take another shot\")\n",
    "        shot = input()\n",
    "        return shot_tracker(shot)    \n",
    "\n",
    "#Starting the game\n",
    "\n",
    "print(\"What is your name?\")\n",
    "name = input()\n",
    "print(\"Welcome to the pond, \" + name + \"!. Are you ready to hunt littleships?\")\n",
    "ready = input()\n",
    "print(\"Take your shot!  Make sure it is a letter within \" + gridlimit_alphabet[0] + \" and \" + str(gridlimit_alphabet[-1]) + \", and a number between 1 and \" + str(len(gridlimit_alphabet)) + \".\")\n",
    "shot = input()\n",
    "\n",
    "first_shot = shot_tracker(shot)\n",
    "print(\"GG, \" + name +\"! TTFN!\")\n",
    "quit()\n"
   ]
  },
  {
   "cell_type": "markdown",
   "metadata": {},
   "source": []
  },
  {
   "cell_type": "code",
   "execution_count": null,
   "metadata": {},
   "outputs": [],
   "source": []
  }
 ],
 "metadata": {
  "kernelspec": {
   "display_name": "Python 3 (ipykernel)",
   "language": "python",
   "name": "python3"
  },
  "language_info": {
   "codemirror_mode": {
    "name": "ipython",
    "version": 3
   },
   "file_extension": ".py",
   "mimetype": "text/x-python",
   "name": "python",
   "nbconvert_exporter": "python",
   "pygments_lexer": "ipython3",
   "version": "3.9.12"
  },
  "vscode": {
   "interpreter": {
    "hash": "dd3bdb09194729bc86e724939d3e6a6784f2822f4c5b187e11332fa94dbbc92f"
   }
  }
 },
 "nbformat": 4,
 "nbformat_minor": 2
}
