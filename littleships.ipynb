{
 "cells": [
  {
   "cell_type": "markdown",
   "metadata": {},
   "source": [
    "# Welcome to Littleships: the modest little battleships game"
   ]
  },
  {
   "cell_type": "markdown",
   "metadata": {},
   "source": [
    "### to do: \n",
    "1. Function Location_of_ship - coordinates of each ship for each player\n",
    "2. Function Shot_tracker - checks if shot is valid, if shot has been fired before, and if it is a hit or not\n",
    "3. Function Hit_tracker - records hits and checks if a ship has been sunk\n",
    "\n",
    "4. Lists - Ship_location\n",
    "5. lists - Record_of_shots\n",
    "6. "
   ]
  },
  {
   "cell_type": "code",
   "execution_count": null,
   "metadata": {},
   "outputs": [],
   "source": [
    "#global values and variables\n",
    "from xml.etree.ElementTree import C14NWriterTarget\n",
    "\n",
    "\n",
    "gridlimit_alphabet = \"abcdefg\" #x-bounds of the pond\n",
    "gridlimit_int = list(str(range(1, len(gridlimit_alphabet)+1, 1))) #y-bounds of the pond\n",
    "player_1 = \"\" #username\n",
    "player_2 = \"\" \n",
    "player_1_bigship = [\"a1\", \"b1\", \"C1\"] #coordinates of the bigship\n",
    "player_1_littleship = [\"f6\", \"f7\"] #coordinates of the littleship\n",
    "shots_fired = [] #all shots fired by player_1\n",
    "\n",
    "#turn sequence\n",
    "\n",
    "def shot_tracker(shot):\n",
    "    if shot[0] in gridlimit_alphabet and shot[-1] in gridlimit_int: #checks that the shot is valid\n",
    "        if shot in shots_fired: #checks that the shot is unique\n",
    "            print(\"You already shot there. Try again.\")\n",
    "        else:\n",
    "            shots_fired.append(shot) \n",
    "            if shot in player_1_bigship:\n",
    "                player_1_bigship.pop(shot)\n",
    "                if len(player_1_bigship) == 0 :\n",
    "                    print(\"You sank his bigship!\")\n",
    "                else:\n",
    "                    print(\"Ohhh you hit something out there!\")\n",
    "            elif shot in player_1_littleship:\n",
    "                player_1_littleship.pop(shot)\n",
    "                if len(player_1_littleship) == 0:\n",
    "                    print(\"You sank his littleship!\")\n",
    "                else: print(\"Ohhh you hit something out there!\")\n",
    "            else:\n",
    "                print(\"Plop! You missed the ship but you hit the pond!\")\n",
    "    else: \n",
    "        print(\"That shot went wide of the pond!  Make sure your first coordinate is within \" + gridlimit_alphabet[0] + \" and \" + str(gridlimit_alphabet[-1]) + \" and your second coordinate is between 1 and \" + str(len(gridlimit_alphabet)) + \".\")\n",
    "                    \n",
    "    if len(player_1_bigship) == 0 and len(player_1_littleship) == 0:\n",
    "        print(\"Player 2 is clean out of littleships. You win!\")\n",
    "        print(\"Game Over\")\n",
    "    else:\n",
    "        print(\"The battle continues!\")\n",
    "\n",
    "\n",
    "        \n",
    "first_shot = shot_tracker(\"b2\")\n",
    "\n",
    "\n",
    "\n"
   ]
  },
  {
   "cell_type": "markdown",
   "metadata": {},
   "source": [
    "### Add user input to choose ship location\n",
    "### Add user input to add username\n",
    "### build loop for gameplay"
   ]
  },
  {
   "cell_type": "code",
   "execution_count": null,
   "metadata": {},
   "outputs": [],
   "source": []
  }
 ],
 "metadata": {
  "kernelspec": {
   "display_name": "Python 3.9.12 ('base')",
   "language": "python",
   "name": "python3"
  },
  "language_info": {
   "codemirror_mode": {
    "name": "ipython",
    "version": 3
   },
   "file_extension": ".py",
   "mimetype": "text/x-python",
   "name": "python",
   "nbconvert_exporter": "python",
   "pygments_lexer": "ipython3",
   "version": "3.9.12"
  },
  "orig_nbformat": 4,
  "vscode": {
   "interpreter": {
    "hash": "dd3bdb09194729bc86e724939d3e6a6784f2822f4c5b187e11332fa94dbbc92f"
   }
  }
 },
 "nbformat": 4,
 "nbformat_minor": 2
}
