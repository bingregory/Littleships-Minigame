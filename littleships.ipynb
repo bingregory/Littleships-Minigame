{
 "cells": [
  {
   "cell_type": "code",
   "execution_count": null,
   "metadata": {},
   "outputs": [],
   "source": []
  }
 ],
 "metadata": {
  "kernelspec": {
   "display_name": "Python 3.9.12 ('base')",
   "language": "python",
   "name": "python3"
  },
  "language_info": {
   "name": "python",
   "version": "3.9.12"
  },
  "orig_nbformat": 4,
  "vscode": {
   "interpreter": {
    "hash": "dd3bdb09194729bc86e724939d3e6a6784f2822f4c5b187e11332fa94dbbc92f"
   }
  }
 },
 "nbformat": 4,
 "nbformat_minor": 2
}
